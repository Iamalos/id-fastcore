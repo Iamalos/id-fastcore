{
 "cells": [
  {
   "cell_type": "code",
   "execution_count": null,
   "metadata": {},
   "outputs": [],
   "source": [
    "#| default_exp basics"
   ]
  },
  {
   "cell_type": "code",
   "execution_count": null,
   "metadata": {},
   "outputs": [],
   "source": [
    "#| export\n",
    "from id_fastcore.imports import *\n",
    "import builtins, types\n",
    "import pprint\n",
    "try: from types import Union\n",
    "except ImportError: Union = None"
   ]
  },
  {
   "cell_type": "code",
   "execution_count": null,
   "metadata": {},
   "outputs": [],
   "source": [
    "#| hide\n",
    "from __future__ import annotations\n",
    "from fastcore.test import *\n",
    "from nbdev.showdoc import *\n",
    "from fastcore.nb_imports import *"
   ]
  },
  {
   "cell_type": "markdown",
   "metadata": {},
   "source": [
    "# Basic functionality"
   ]
  },
  {
   "cell_type": "markdown",
   "metadata": {},
   "source": [
    ">Basic functionality used in the fastai library"
   ]
  },
  {
   "cell_type": "code",
   "execution_count": null,
   "metadata": {},
   "outputs": [],
   "source": [
    "#| export\n",
    "defaults = SimpleNamespace()"
   ]
  },
  {
   "cell_type": "code",
   "execution_count": null,
   "metadata": {},
   "outputs": [
    {
     "data": {
      "text/plain": [
       "namespace(attr1='Mary', attr2=23)"
      ]
     },
     "execution_count": null,
     "metadata": {},
     "output_type": "execute_result"
    }
   ],
   "source": [
    "#| hide\n",
    "defaults.attr1 = 'Mary'\n",
    "defaults.attr2 = 23\n",
    "\n",
    "defaults"
   ]
  },
  {
   "cell_type": "code",
   "execution_count": null,
   "metadata": {},
   "outputs": [],
   "source": [
    "#| export\n",
    "def ifnone(a, b):\n",
    "    \"`b` if `a` is None else `a`\"\n",
    "    return b if a is None else a"
   ]
  },
  {
   "cell_type": "markdown",
   "metadata": {},
   "source": [
    "Since `b if a is None else a` is such a common pattern, we wrap it in a function. However, be careful, because python will evaluate both `a` and `b` when calling `ifnone` (which it doesn't do if using the `if` version directly)."
   ]
  },
  {
   "cell_type": "code",
   "execution_count": null,
   "metadata": {},
   "outputs": [],
   "source": [
    "test_eq(ifnone(None,1), 1)\n",
    "test_eq(ifnone(2,   1), 2)"
   ]
  },
  {
   "cell_type": "code",
   "execution_count": null,
   "metadata": {},
   "outputs": [],
   "source": [
    "#| export\n",
    "def maybe_attr(o, attr):\n",
    "    \"`getattr(o,attr,o)`\"\n",
    "    return getattr(o, attr, o)"
   ]
  },
  {
   "cell_type": "markdown",
   "metadata": {},
   "source": [
    "Return the attribute `attr` for object `o`. If the attribute doesn't exist, then return the object `o` instead."
   ]
  },
  {
   "cell_type": "code",
   "execution_count": null,
   "metadata": {},
   "outputs": [],
   "source": [
    "class myobj: myattr='foo'\n",
    "\n",
    "test_eq(maybe_attr(myobj, 'myattr'), 'foo')\n",
    "test_eq(maybe_attr(myobj, 'another_attr'), myobj)     "
   ]
  },
  {
   "cell_type": "code",
   "execution_count": null,
   "metadata": {},
   "outputs": [],
   "source": [
    "#| export\n",
    "def basic_repr(flds=None):\n",
    "    \"Minimal `__repr__`\"\n",
    "    if isinstance(flds, str): flds = re.split(', *', flds)\n",
    "    flds = list(flds or [])\n",
    "    def _f(self):\n",
    "        res = f'{type(self).__module__}.{type(self).__name__}'\n",
    "        if not flds: return f'<{res}>'\n",
    "        sig = ', '.join(f'{o} = {getattr(self, o)!r}' for o in flds)\n",
    "        return f'{res}({sig})'\n",
    "    return _f"
   ]
  },
  {
   "cell_type": "markdown",
   "metadata": {},
   "source": [
    "In types which provide rich display functionality in Jupyter, their `__repr__` is also called in order to provide a fallback text representation. Unfortunately, this includes a memory address which changes on every invocation, making it non-deterministic. This causes diffs to get messy and creates conflicts in git. To fix this, put `__repr__=basic_repr()` inside your class."
   ]
  },
  {
   "cell_type": "code",
   "execution_count": null,
   "metadata": {},
   "outputs": [
    {
     "data": {
      "text/plain": [
       "'<__main__.SomeClass>'"
      ]
     },
     "execution_count": null,
     "metadata": {},
     "output_type": "execute_result"
    }
   ],
   "source": [
    "class SomeClass: __repr__=basic_repr()\n",
    "repr(SomeClass())"
   ]
  },
  {
   "cell_type": "markdown",
   "metadata": {},
   "source": [
    "If you pass a list of attributes (`flds`) of an object, then this will generate a string with the name of each attribute and its corresponding value. The format of this string is key=value, where key is the name of the attribute, and value is the value of the attribute. For each value, attempt to use the `__name__` attribute with the value's `__repr__` when constructing the string."
   ]
  },
  {
   "cell_type": "code",
   "execution_count": null,
   "metadata": {},
   "outputs": [
    {
     "data": {
      "text/plain": [
       "\"__main__.SomeClass(a = 1, b = 'foo')\""
      ]
     },
     "execution_count": null,
     "metadata": {},
     "output_type": "execute_result"
    }
   ],
   "source": [
    "class SomeClass:\n",
    "    a=1\n",
    "    b='foo'\n",
    "    __repr__=basic_repr('a,b')\n",
    "    __name__='some-class'\n",
    "\n",
    "repr(SomeClass())\n",
    "     "
   ]
  },
  {
   "cell_type": "code",
   "execution_count": null,
   "metadata": {},
   "outputs": [
    {
     "data": {
      "text/plain": [
       "\"__main__.AnotherClass(c = __main__.SomeClass(a = 1, b = 'foo'), d = 'bar')\""
      ]
     },
     "execution_count": null,
     "metadata": {},
     "output_type": "execute_result"
    }
   ],
   "source": [
    "class AnotherClass:\n",
    "    c=SomeClass()\n",
    "    d='bar'\n",
    "    __repr__=basic_repr(['c', 'd'])\n",
    "\n",
    "repr(AnotherClass())"
   ]
  },
  {
   "cell_type": "code",
   "execution_count": null,
   "metadata": {},
   "outputs": [],
   "source": [
    "#| export\n",
    "def is_array(x):\n",
    "    \"`True` if `x` supports `__array__` or `iloc`\"\n",
    "    return hasattr(x, '__array__') or hasattr(x, 'iloc')"
   ]
  },
  {
   "cell_type": "code",
   "execution_count": null,
   "metadata": {},
   "outputs": [
    {
     "data": {
      "text/plain": [
       "(True, False)"
      ]
     },
     "execution_count": null,
     "metadata": {},
     "output_type": "execute_result"
    }
   ],
   "source": [
    "is_array(np.array(1)), is_array([1])"
   ]
  },
  {
   "cell_type": "code",
   "execution_count": null,
   "metadata": {},
   "outputs": [],
   "source": [
    "#| export\n",
    "def listify(o=None, *rest, use_list=False, match=None):\n",
    "    \"Convert `o` to a `list`\"\n",
    "    if rest: o = (o,) + rest\n",
    "    # if use_list - shortcut to [o]\n",
    "    if use_list: res = list(o)\n",
    "    elif o is None: res = []\n",
    "    elif isinstance(o, list): res = o\n",
    "    elif isinstance(o, str) or is_array(o): res = [o]\n",
    "    elif is_iter(o): res = list(o)\n",
    "    else: res = [o]\n",
    "    if match is not None:\n",
    "        if is_coll(match): match = len(match)\n",
    "        if len(res) == 1: res = match * res\n",
    "        else: assert len(res)==match, 'Match length mismatch'\n",
    "    return res"
   ]
  },
  {
   "cell_type": "markdown",
   "metadata": {},
   "source": [
    "Conversion is designed to \"do what you mean\", e.g:"
   ]
  },
  {
   "cell_type": "code",
   "execution_count": null,
   "metadata": {},
   "outputs": [],
   "source": [
    "test_eq(listify('hi'), ['hi'])\n",
    "test_eq(listify(array(1)), [array(1)])\n",
    "test_eq(listify(1), [1])\n",
    "test_eq(listify([1,2]), [1,2])\n",
    "test_eq(listify(range(3)), [0,1,2])\n",
    "test_eq(listify(None), [])\n",
    "test_eq(listify(1,2), [1,2])"
   ]
  },
  {
   "cell_type": "code",
   "execution_count": null,
   "metadata": {},
   "outputs": [
    {
     "data": {
      "text/plain": [
       "[array([[0, 1, 2],\n",
       "        [3, 4, 5],\n",
       "        [6, 7, 8]])]"
      ]
     },
     "execution_count": null,
     "metadata": {},
     "output_type": "execute_result"
    }
   ],
   "source": [
    "arr = np.arange(9).reshape(3,3)\n",
    "listify(arr)"
   ]
  },
  {
   "cell_type": "code",
   "execution_count": null,
   "metadata": {},
   "outputs": [
    {
     "data": {
      "text/plain": [
       "[array([1, 2])]"
      ]
     },
     "execution_count": null,
     "metadata": {},
     "output_type": "execute_result"
    }
   ],
   "source": [
    "listify(array([1,2]))"
   ]
  },
  {
   "cell_type": "markdown",
   "metadata": {},
   "source": [
    "Generators are turned into lists too:"
   ]
  },
  {
   "cell_type": "code",
   "execution_count": null,
   "metadata": {},
   "outputs": [],
   "source": [
    "gen = (o for o in range(3))\n",
    "test_eq(listify(gen), [0,1,2])"
   ]
  },
  {
   "cell_type": "markdown",
   "metadata": {},
   "source": [
    "Use `match` to provide a length to match:"
   ]
  },
  {
   "cell_type": "code",
   "execution_count": null,
   "metadata": {},
   "outputs": [],
   "source": [
    "test_eq(listify(1,match=3), [1,1,1])"
   ]
  },
  {
   "cell_type": "markdown",
   "metadata": {},
   "source": [
    "If `match` is a sequence, it's length is used:"
   ]
  },
  {
   "cell_type": "code",
   "execution_count": null,
   "metadata": {},
   "outputs": [],
   "source": [
    "test_eq(listify(1,match=range(3)), [1,1,1])"
   ]
  },
  {
   "cell_type": "markdown",
   "metadata": {},
   "source": [
    "If the listified item is not of length `1`, it must be the same length as `match`:"
   ]
  },
  {
   "cell_type": "code",
   "execution_count": null,
   "metadata": {},
   "outputs": [],
   "source": [
    "test_eq(listify([1,1,1],match=3), [1,1,1])\n",
    "test_fail(lambda: listify([1,1],match=3))"
   ]
  },
  {
   "cell_type": "code",
   "execution_count": null,
   "metadata": {},
   "outputs": [],
   "source": [
    "#|export\n",
    "def tuplify(o, use_list=False, match=None):\n",
    "    \"Make `o` a tuple\"\n",
    "    return tuple(listify(o, use_list=use_list, match=match))"
   ]
  },
  {
   "cell_type": "code",
   "execution_count": null,
   "metadata": {},
   "outputs": [],
   "source": [
    "test_eq(tuplify(None),())\n",
    "test_eq(tuplify([1,2,3]),(1,2,3))\n",
    "test_eq(tuplify(1,match=[1,2,3]),(1,1,1))"
   ]
  },
  {
   "cell_type": "code",
   "execution_count": null,
   "metadata": {},
   "outputs": [],
   "source": [
    "#|export\n",
    "def true(x):\n",
    "    \"Test whether `x` is truthy; collections with >0 elements are considered `True`\"\n",
    "    try: return bool(len(x))\n",
    "    except: return bool(x)"
   ]
  },
  {
   "cell_type": "code",
   "execution_count": null,
   "metadata": {},
   "outputs": [
    {
     "data": {
      "text/plain": [
       "[(array(0), False),\n",
       " (array(1), True),\n",
       " (array([0]), True),\n",
       " (array([0, 1]), True),\n",
       " (1, True),\n",
       " (0, False),\n",
       " ('', False),\n",
       " (None, False)]"
      ]
     },
     "execution_count": null,
     "metadata": {},
     "output_type": "execute_result"
    }
   ],
   "source": [
    "[(o,true(o)) for o in\n",
    " (array(0),array(1),array([0]),array([0,1]),1,0,'',None)]"
   ]
  },
  {
   "cell_type": "code",
   "execution_count": null,
   "metadata": {},
   "outputs": [],
   "source": [
    "#|export\n",
    "class NullType:\n",
    "    \"An object that is `False` and can be called, chained, and indexed\"\n",
    "    def __getattr__(self, *args): return null\n",
    "    def __call__(self, *args, **kwargs): return null\n",
    "    def __getitem__(self, *args): return null\n",
    "    def __bool__(self): return False\n",
    "\n",
    "null = NullType()"
   ]
  },
  {
   "cell_type": "code",
   "execution_count": null,
   "metadata": {},
   "outputs": [
    {
     "data": {
      "text/plain": [
       "False"
      ]
     },
     "execution_count": null,
     "metadata": {},
     "output_type": "execute_result"
    }
   ],
   "source": [
    "bool(null.hi().there[3])"
   ]
  },
  {
   "cell_type": "code",
   "execution_count": null,
   "metadata": {},
   "outputs": [],
   "source": [
    "#|export\n",
    "def tonull(x):\n",
    "    \"Convert `None` to `null`\"\n",
    "    return null if x is None else x"
   ]
  },
  {
   "cell_type": "code",
   "execution_count": null,
   "metadata": {},
   "outputs": [
    {
     "data": {
      "text/plain": [
       "False"
      ]
     },
     "execution_count": null,
     "metadata": {},
     "output_type": "execute_result"
    }
   ],
   "source": [
    "bool(tonull(None).hi().there[3])"
   ]
  },
  {
   "cell_type": "code",
   "execution_count": null,
   "metadata": {},
   "outputs": [],
   "source": [
    "#|export\n",
    "def get_class(nm, *fld_names, sup=None, doc=None, funcs=None, **flds):\n",
    "    \"Dynamically create a class, optionally inheriting from `sup`, containing `fld_names`\"\n",
    "    attrs = {}\n",
    "    for f in fld_names: attrs[f] = None\n",
    "    for f in listify(funcs): attrs[f.__name__] = f\n",
    "    for k,v in flds.items(): attrs[k] = v\n",
    "    sup = ifnone(sup,())\n",
    "    # because type accepts second argument as a tuple\n",
    "    if not isinstance(sup, tuple): sup = (sup,)\n",
    "    \n",
    "    def _init(self, *args, **kwargs):\n",
    "        # sets attrs for any kwargs, and for any args (matching by position to fields)\n",
    "        for i,v in enumerate(args): setattr(self, list(attrs.keys())[i], v)\n",
    "        # additional to get_class kwargs can be passed here\n",
    "        for k,v in kwargs.items(): setattr(self,k,v)\n",
    "        \n",
    "    all_flds = [*fld_names, *flds.keys()]\n",
    "    \n",
    "    def _eq(self, b):\n",
    "        return all([getattr(self,k) == getattr(b, k) for k in all_flds])\n",
    "    \n",
    "    if not sup: attrs['__repr__'] = basic_repr(all_flds)\n",
    "    attrs['__init__'] = _init\n",
    "    attrs['__eq__'] = _eq\n",
    "    # res is created as a class with name nm, base class and attrs\n",
    "    res = type(nm, sup, attrs)\n",
    "    if doc is not None: res.__doc__ = doc\n",
    "    return res"
   ]
  },
  {
   "cell_type": "code",
   "execution_count": null,
   "metadata": {},
   "outputs": [
    {
     "data": {
      "text/markdown": [
       "---\n",
       "\n",
       "[source](https://github.com/Iamalos/id-fastcore/blob/main/id_fastcore/basics.py#L88){target=\"_blank\" style=\"float:right; font-size:smaller\"}\n",
       "\n",
       "### get_class\n",
       "\n",
       ">      get_class (nm, *fld_names, sup=None, doc=None, funcs=None, **flds)\n",
       "\n",
       "Dynamically create a class, optionally inheriting from `sup`, containing `fld_names`"
      ],
      "text/plain": [
       "---\n",
       "\n",
       "[source](https://github.com/Iamalos/id-fastcore/blob/main/id_fastcore/basics.py#L88){target=\"_blank\" style=\"float:right; font-size:smaller\"}\n",
       "\n",
       "### get_class\n",
       "\n",
       ">      get_class (nm, *fld_names, sup=None, doc=None, funcs=None, **flds)\n",
       "\n",
       "Dynamically create a class, optionally inheriting from `sup`, containing `fld_names`"
      ]
     },
     "execution_count": null,
     "metadata": {},
     "output_type": "execute_result"
    }
   ],
   "source": [
    "show_doc(get_class)"
   ]
  },
  {
   "cell_type": "code",
   "execution_count": null,
   "metadata": {},
   "outputs": [
    {
     "data": {
      "text/plain": [
       "'__main__._t(a = 1, b = 3)'"
      ]
     },
     "execution_count": null,
     "metadata": {},
     "output_type": "execute_result"
    }
   ],
   "source": [
    "_t = get_class('_t', 'a', b=2)\n",
    "t = _t()\n",
    "test_eq(t.a, None)\n",
    "test_eq(t.b, 2)\n",
    "t = _t(1, b=3)\n",
    "test_eq(t.a, 1)\n",
    "test_eq(t.b, 3)\n",
    "t = _t(1, 3)\n",
    "test_eq(t.a, 1)\n",
    "test_eq(t.b, 3)\n",
    "test_eq(t, pickle.loads(pickle.dumps(t)))\n",
    "repr(t)"
   ]
  },
  {
   "cell_type": "code",
   "execution_count": null,
   "metadata": {},
   "outputs": [],
   "source": [
    "_t = get_class('_t', 'a', 'b', 'c', d=2)\n",
    "t = _t(1,2,d=3)\n",
    "test_eq(t.a, 1)\n",
    "test_eq(t.b, 2)\n",
    "test_eq(t.c, None)"
   ]
  },
  {
   "cell_type": "markdown",
   "metadata": {},
   "source": [
    "Most often you'll want to call `mk_class`, since it adds the class to your module. See `mk_class` for more details and examples of use (which also apply to `get_class`)."
   ]
  },
  {
   "cell_type": "code",
   "execution_count": null,
   "metadata": {},
   "outputs": [],
   "source": [
    "#|export\n",
    "def mk_class(nm, *fld_names, sup=None, doc=None, funcs=None, mod=None, **flds):\n",
    "    \"Create a class using `get_class` and add to the caller's module\"\n",
    "    if mod is None: mod = sys._getframe(1).f_locals\n",
    "    res = get_class(nm, *fld_names, sup=sup, doc=doc, funcs=funcs, **flds)\n",
    "    mod[nm] = res"
   ]
  },
  {
   "cell_type": "markdown",
   "metadata": {},
   "source": [
    "Any `kwargs` will be added as class attributes, and `sup` is an optional (tuple of) base classes."
   ]
  },
  {
   "cell_type": "code",
   "execution_count": null,
   "metadata": {},
   "outputs": [],
   "source": [
    "mk_class('_t', a=1, sup=dict)\n",
    "t = _t()\n",
    "test_eq(t.a, 1)\n",
    "assert(isinstance(t,dict))"
   ]
  },
  {
   "cell_type": "markdown",
   "metadata": {},
   "source": [
    "A `__init__` is provided that sets attrs for any kwargs, and for any args (matching by position to fields), along with a `__repr__` which prints all attrs. The docstring is set to doc. You can pass `funcs` which will be added as attrs with the function names."
   ]
  },
  {
   "cell_type": "code",
   "execution_count": null,
   "metadata": {},
   "outputs": [
    {
     "data": {
      "text/plain": [
       "{}"
      ]
     },
     "execution_count": null,
     "metadata": {},
     "output_type": "execute_result"
    }
   ],
   "source": [
    "def foo(self): return 1\n",
    "mk_class('_t', 'a', sup=dict, doc='test doc', funcs=foo)\n",
    "\n",
    "t = _t(3, b=2)\n",
    "test_eq(t.a, 3)\n",
    "test_eq(t.b, 2)\n",
    "test_eq(t.foo(), 1)\n",
    "test_eq(t.__doc__, 'test doc')\n",
    "t"
   ]
  },
  {
   "cell_type": "code",
   "execution_count": null,
   "metadata": {},
   "outputs": [],
   "source": [
    "#|export\n",
    "def wrap_class(nm, *fld_names, sup=None, doc=None, funcs=None, **flds):\n",
    "    \"Decorator: makes function a method of a new class `nm` passing parameters to `mk_class`\"\n",
    "    def _inner(f):\n",
    "        mk_class(nm, *fld_names, sup=sup, doc=doc, funcs=listify(funcs)+[f], mod=f.__globals__, **flds)\n",
    "        return f\n",
    "    return _inner"
   ]
  },
  {
   "cell_type": "code",
   "execution_count": null,
   "metadata": {},
   "outputs": [],
   "source": [
    "@wrap_class('_t', a=2)\n",
    "def bar(self,x): return x+1\n",
    "\n",
    "t = _t()\n",
    "test_eq(t.a, 2)\n",
    "test_eq(t.bar(3), 4)"
   ]
  },
  {
   "cell_type": "code",
   "execution_count": null,
   "metadata": {},
   "outputs": [],
   "source": [
    "#|export\n",
    "class ignore_exceptions:\n",
    "    \"Context manager to ignore exceptions\"\n",
    "    def __enter__(self): pass\n",
    "    def __exit__(self, *args): \n",
    "        return True"
   ]
  },
  {
   "cell_type": "code",
   "execution_count": null,
   "metadata": {},
   "outputs": [
    {
     "data": {
      "text/markdown": [
       "---\n",
       "\n",
       "[source](https://github.com/Iamalos/id-fastcore/blob/main/id_fastcore/basics.py#L133){target=\"_blank\" style=\"float:right; font-size:smaller\"}\n",
       "\n",
       "### ignore_exceptions\n",
       "\n",
       ">      ignore_exceptions ()\n",
       "\n",
       "Context manager to ignore exceptions"
      ],
      "text/plain": [
       "---\n",
       "\n",
       "[source](https://github.com/Iamalos/id-fastcore/blob/main/id_fastcore/basics.py#L133){target=\"_blank\" style=\"float:right; font-size:smaller\"}\n",
       "\n",
       "### ignore_exceptions\n",
       "\n",
       ">      ignore_exceptions ()\n",
       "\n",
       "Context manager to ignore exceptions"
      ]
     },
     "execution_count": null,
     "metadata": {},
     "output_type": "execute_result"
    }
   ],
   "source": [
    "show_doc(ignore_exceptions, title_level=3)"
   ]
  },
  {
   "cell_type": "code",
   "execution_count": null,
   "metadata": {},
   "outputs": [],
   "source": [
    "with ignore_exceptions(): \n",
    "    # Exception will be ignored\n",
    "    raise Exception"
   ]
  },
  {
   "cell_type": "code",
   "execution_count": null,
   "metadata": {},
   "outputs": [],
   "source": [
    "#|export\n",
    "def exec_local(code, var_name):\n",
    "    \"Call `exec` on `code` and return the var `var_name`\"\n",
    "    loc = {}\n",
    "    exec(code, globals(), loc)\n",
    "    return loc[var_name]"
   ]
  },
  {
   "cell_type": "code",
   "execution_count": null,
   "metadata": {},
   "outputs": [],
   "source": [
    "test_eq(exec_local(\"a=1\", \"a\"), 1)"
   ]
  },
  {
   "cell_type": "code",
   "execution_count": null,
   "metadata": {},
   "outputs": [
    {
     "data": {
      "text/plain": [
       "1"
      ]
     },
     "execution_count": null,
     "metadata": {},
     "output_type": "execute_result"
    }
   ],
   "source": [
    "exec_local(\"a=1\", \"a\")"
   ]
  },
  {
   "cell_type": "code",
   "execution_count": null,
   "metadata": {},
   "outputs": [],
   "source": [
    "#|export\n",
    "def risinstance(types, obj=None):\n",
    "    \"Curried `isinstance` but with args reversed\"\n",
    "    types = tuplify(types)\n",
    "    # return partial function that accepts only obj\n",
    "    if obj is None: return partial(risinstance, types)\n",
    "    # if obj is of type string, check if name of object type name (or its parent)\n",
    "    if any(isinstance(t, str) for t in types):\n",
    "        return any(t.__name__ in types for t in type(obj).__mro__)\n",
    "    return isinstance(obj, types)"
   ]
  },
  {
   "cell_type": "code",
   "execution_count": null,
   "metadata": {},
   "outputs": [
    {
     "data": {
      "text/plain": [
       "(type, object)"
      ]
     },
     "execution_count": null,
     "metadata": {},
     "output_type": "execute_result"
    }
   ],
   "source": [
    "type(int).__mro__"
   ]
  },
  {
   "cell_type": "code",
   "execution_count": null,
   "metadata": {},
   "outputs": [
    {
     "data": {
      "text/plain": [
       "['list', 'object']"
      ]
     },
     "execution_count": null,
     "metadata": {},
     "output_type": "execute_result"
    }
   ],
   "source": [
    "[t.__name__ for t in type([1]).__mro__]"
   ]
  },
  {
   "cell_type": "code",
   "execution_count": null,
   "metadata": {},
   "outputs": [],
   "source": [
    "assert risinstance(int, 1)\n",
    "assert not risinstance(str, 0)\n",
    "assert risinstance(int)(1)"
   ]
  },
  {
   "cell_type": "code",
   "execution_count": null,
   "metadata": {},
   "outputs": [],
   "source": [
    "assert risinstance(('str','int'), 'a')\n",
    "assert risinstance('str', 'a')\n",
    "assert not risinstance('int', 'a')"
   ]
  },
  {
   "cell_type": "code",
   "execution_count": null,
   "metadata": {},
   "outputs": [
    {
     "data": {
      "text/plain": [
       "'str'"
      ]
     },
     "execution_count": null,
     "metadata": {},
     "output_type": "execute_result"
    }
   ],
   "source": [
    "type('a').__mro__[0].__name__"
   ]
  },
  {
   "cell_type": "code",
   "execution_count": null,
   "metadata": {},
   "outputs": [
    {
     "data": {
      "text/markdown": [
       "---\n",
       "\n",
       "### noop\n",
       "\n",
       ">      noop (x=None, *args, **kwargs)\n",
       "\n",
       "Do nothing"
      ],
      "text/plain": [
       "---\n",
       "\n",
       "### noop\n",
       "\n",
       ">      noop (x=None, *args, **kwargs)\n",
       "\n",
       "Do nothing"
      ]
     },
     "execution_count": null,
     "metadata": {},
     "output_type": "execute_result"
    }
   ],
   "source": [
    "show_doc(noop)"
   ]
  },
  {
   "cell_type": "code",
   "execution_count": null,
   "metadata": {},
   "outputs": [],
   "source": [
    "noop()\n",
    "test_eq(noop(1),1)"
   ]
  },
  {
   "cell_type": "code",
   "execution_count": null,
   "metadata": {},
   "outputs": [
    {
     "data": {
      "text/markdown": [
       "---\n",
       "\n",
       "### noops\n",
       "\n",
       ">      noops (x=None, *args, **kwargs)\n",
       "\n",
       "Do nothing (method)"
      ],
      "text/plain": [
       "---\n",
       "\n",
       "### noops\n",
       "\n",
       ">      noops (x=None, *args, **kwargs)\n",
       "\n",
       "Do nothing (method)"
      ]
     },
     "execution_count": null,
     "metadata": {},
     "output_type": "execute_result"
    }
   ],
   "source": [
    "show_doc(noops)"
   ]
  },
  {
   "cell_type": "code",
   "execution_count": null,
   "metadata": {},
   "outputs": [],
   "source": [
    "class _t: foo = noops\n",
    "test_eq(_t().foo(1),1)"
   ]
  },
  {
   "cell_type": "markdown",
   "metadata": {},
   "source": [
    "# Infinite Lists"
   ]
  },
  {
   "cell_type": "markdown",
   "metadata": {},
   "source": [
    "__Classes are Objects__: In Python, classes are themselves objects. They are instances of another class called metaclass. By default, in Python 3, the metaclass of any new-style class (classes inheriting from object) is type.\n",
    "\n",
    "__Customizing Class Creation__: Metaclasses allow you to customize the way classes are created. Just as classes define how instances behave, metaclasses define how classes behave. They control the instantiation, initialization, and behavior of classes."
   ]
  },
  {
   "cell_type": "markdown",
   "metadata": {},
   "source": [
    "These lists are useful for things like padding an array or adding index column(s) to arrays. A metaclass is a class of a class. It allows you to control the creation and behavior of classes.\n",
    "\n",
    "- `def count(self): return itertools.count()`. This method defines a property called count. When accessed on a class that uses _InfMeta as its metaclass, it returns an infinite iterator from the itertools.count() function. This iterator generates consecutive integers starting from zero (by default).\n",
    "\n",
    "- `def zeros(self): return itertools.cycle([0])`. This method defines a property called zeros. When accessed on a class that uses _InfMeta as its metaclass, it returns an infinite iterator from the itertools.cycle() function. This iterator cycles through the provided iterable infinitely, and in this case, it cycles through the single element [0], generating an infinite stream of zeros.\n",
    "\n",
    "- `def ones(self): return itertools.cycle([1])`. This method defines a property called ones. Similar to zeros, it returns an infinite iterator, but this time it cycles through [1], generating an infinite stream of ones.\n",
    "\n",
    "- `def nones(self): return itertools.cycle([None])`. This method defines a property called nones. Again, it returns an infinite iterator cycling through [None], generating an infinite stream of None values."
   ]
  },
  {
   "cell_type": "code",
   "execution_count": null,
   "metadata": {},
   "outputs": [],
   "source": [
    "#| export\n",
    "#| hide\n",
    "class _InfMeta(type):\n",
    "    @property\n",
    "    def count(self): return itertools.count()\n",
    "    @property\n",
    "    def zeros(self): return itertools.cycle([0])\n",
    "    @property\n",
    "    def ones(self): return itertools.cycle([1])\n",
    "    @property\n",
    "    def nones(self): return itertools.cycle([None])"
   ]
  },
  {
   "cell_type": "code",
   "execution_count": null,
   "metadata": {},
   "outputs": [],
   "source": [
    "#| export\n",
    "class Inf(metaclass=_InfMeta):\n",
    "    \"Infinite lists\"\n",
    "    pass"
   ]
  },
  {
   "cell_type": "code",
   "execution_count": null,
   "metadata": {},
   "outputs": [],
   "source": [
    "test_eq([o for i,o in zip(range(5), Inf.count)],\n",
    "         [0, 1, 2, 3, 4])\n",
    "\n",
    "test_eq([o for i,o in zip(range(5), Inf.zeros)],\n",
    "         [0]*5)\n",
    "\n",
    "test_eq([o for i,o in zip(range(5), Inf.ones)],\n",
    "         [1]*5)\n",
    "\n",
    "test_eq([o for i,o in zip(range(5), Inf.nones)],\n",
    "        [None]*5)"
   ]
  },
  {
   "cell_type": "markdown",
   "metadata": {},
   "source": [
    "## Operator Functions"
   ]
  },
  {
   "cell_type": "code",
   "execution_count": null,
   "metadata": {},
   "outputs": [],
   "source": [
    "#|export \n",
    "_dumobj = object()\n",
    "# if b is not provided returns lambda function\n",
    "def _oper(op,a,b=_dumobj): return (lambda o: op(o,a)) if b is _dumobj else op(a,b)\n",
    "\n",
    "def _mk_op(nm, mod):\n",
    "    \"Create an operator using `_oper` and add to the caller's module\"\n",
    "    # get operator.nm\n",
    "    op = getattr(operator, nm)\n",
    "    # internal f-n that will be added to module to be called with one or two args\n",
    "    def _inner(a, b=_dumobj): return _oper(op,a,b)\n",
    "    # __qualname__ provides a qualified name for classes and functions\n",
    "    _inner.__name__ = _inner.__qualname__ = nm\n",
    "    _inner.__doc__ = f'Same as `operator.{nm}` or returns partial if 1 arg'\n",
    "    mod[nm] = _inner"
   ]
  },
  {
   "cell_type": "code",
   "execution_count": null,
   "metadata": {},
   "outputs": [],
   "source": [
    "#| hide\n",
    "_f = _oper(operator.add,1,2)\n",
    "assert _f==3, 'Error'\n",
    "_f = _oper(operator.add,10)\n",
    "assert _f(3)==13, 'Error'"
   ]
  },
  {
   "cell_type": "code",
   "execution_count": null,
   "metadata": {},
   "outputs": [],
   "source": [
    "#|export\n",
    "def in_(x, a):\n",
    "    \"True if `x in a`\"\n",
    "    return x in a\n",
    "\n",
    "operator.in_ = in_"
   ]
  },
  {
   "cell_type": "code",
   "execution_count": null,
   "metadata": {},
   "outputs": [],
   "source": [
    "#|export\n",
    "_all_ = ['lt','gt','le','ge','eq','ne','add','sub','mul','truediv','is_','is_not','in_', 'mod']"
   ]
  },
  {
   "cell_type": "code",
   "execution_count": null,
   "metadata": {},
   "outputs": [],
   "source": [
    "#|export\n",
    "for op in ['lt','gt','le','ge','eq','ne','add','sub','mul','truediv','is_','is_not','in_', 'mod']: _mk_op(op, globals())"
   ]
  },
  {
   "cell_type": "code",
   "execution_count": null,
   "metadata": {},
   "outputs": [
    {
     "data": {
      "text/plain": [
       "'Same as `operator.lt` or returns partial if 1 arg'"
      ]
     },
     "execution_count": null,
     "metadata": {},
     "output_type": "execute_result"
    }
   ],
   "source": [
    "#|hide\n",
    "globals()['lt'].__doc__"
   ]
  },
  {
   "cell_type": "code",
   "execution_count": null,
   "metadata": {},
   "outputs": [],
   "source": [
    "# test if element is in another\n",
    "assert in_('c', ('b', 'c', 'a'))\n",
    "assert in_(4, [2,3,4,5])\n",
    "assert in_('t', 'fastai')\n",
    "test_fail(in_('h', 'fastai'))\n",
    "\n",
    "# use in_ as a partial\n",
    "# note that `fastai` here is used as a second argument in _in due to how _oper works\n",
    "assert in_('fastai')('t')\n",
    "assert in_([2,3,4,5])(4)\n",
    "test_fail(in_('fastai')('h'))"
   ]
  },
  {
   "cell_type": "markdown",
   "metadata": {},
   "source": [
    "In addition to `in_`, the following functions are provided matching the behavior of the equivalent versions in `operator`: __lt gt le ge eq ne add sub mul truediv is\\_ is_not._"
   ]
  },
  {
   "cell_type": "code",
   "execution_count": null,
   "metadata": {},
   "outputs": [
    {
     "data": {
      "text/plain": [
       "(True, False, True, False)"
      ]
     },
     "execution_count": null,
     "metadata": {},
     "output_type": "execute_result"
    }
   ],
   "source": [
    "lt(5)(3),gt(5)(3),is_(None)(None),in_([1,2])(0)"
   ]
  },
  {
   "cell_type": "code",
   "execution_count": null,
   "metadata": {},
   "outputs": [],
   "source": [
    "#|export\n",
    "def ret_true(*args, **kwargs):\n",
    "    \"Predicate: always `True`\"\n",
    "    return True"
   ]
  },
  {
   "cell_type": "code",
   "execution_count": null,
   "metadata": {},
   "outputs": [],
   "source": [
    "assert ret_true(1,2,3)\n",
    "assert ret_true(False)"
   ]
  },
  {
   "cell_type": "code",
   "execution_count": null,
   "metadata": {},
   "outputs": [],
   "source": [
    "#|export\n",
    "def ret_false(*args, **kwargs):\n",
    "    \"Predicate: always `False`\"\n",
    "    return False"
   ]
  },
  {
   "cell_type": "markdown",
   "metadata": {},
   "source": [
    "`stop` is also used when we want to raise exception inside oneliner return. In that way direct raise will get an error "
   ]
  },
  {
   "cell_type": "code",
   "execution_count": null,
   "metadata": {},
   "outputs": [],
   "source": [
    "#|export\n",
    "def stop(e=StopIteration):\n",
    "    \"Raises exception `e` (by default `StopException`)\"\n",
    "    raise e"
   ]
  },
  {
   "cell_type": "code",
   "execution_count": null,
   "metadata": {},
   "outputs": [],
   "source": [
    "#|export\n",
    "def gen(func, seq, cond=ret_true):\n",
    "    \"Like `(func(o) for o in seq if cond(func(o)))` but handles `StopIteration`\"\n",
    "    return itertools.takewhile(cond, map(func,seq))"
   ]
  },
  {
   "cell_type": "code",
   "execution_count": null,
   "metadata": {},
   "outputs": [],
   "source": [
    "test_eq(gen(noop, Inf.count, lt(5)),\n",
    "        range(5))\n",
    "test_eq(gen(operator.neg, Inf.count, gt(-5)),\n",
    "        [0,-1,-2,-3,-4])\n",
    "test_eq(gen(lambda o:o if o<5 else stop(), Inf.count),\n",
    "        range(5))"
   ]
  },
  {
   "cell_type": "code",
   "execution_count": null,
   "metadata": {},
   "outputs": [],
   "source": [
    "#|export\n",
    "def chunked(it, chunk_sz=None, drop_last=False, n_chunks=None):\n",
    "    \"Return batches from iterator `it` of size `chunk_sz` (or return `n_chunks` total)\"\n",
    "    # either `chunk_sz` is provided or `n_chunks`, not both\n",
    "    assert bool(chunk_sz) ^ bool(n_chunks)\n",
    "    if n_chunks: chunk_sz = max(math.ceil(len(it) / n_chunks), 1)\n",
    "    if not isinstance(it, Iterator): it = iter(it)\n",
    "    while True:\n",
    "        res = list(itertools.islice(it, chunk_sz))\n",
    "        if res and (len(res) == chunk_sz or not drop_last): yield res\n",
    "        if len(res) < chunk_sz: return"
   ]
  },
  {
   "cell_type": "code",
   "execution_count": null,
   "metadata": {},
   "outputs": [
    {
     "data": {
      "text/plain": [
       "[0, 1, 2, 3, 4, 5, 6, 7, 8, 9]"
      ]
     },
     "execution_count": null,
     "metadata": {},
     "output_type": "execute_result"
    }
   ],
   "source": [
    "# hide\n",
    "g = (i for i in range(100))\n",
    "list(itertools.islice(g,10))"
   ]
  },
  {
   "cell_type": "code",
   "execution_count": null,
   "metadata": {},
   "outputs": [],
   "source": [
    "t = list(range(10))\n",
    "test_eq(chunked(t,3),      [[0,1,2], [3,4,5], [6,7,8], [9]])\n",
    "test_eq(chunked(t,3,True), [[0,1,2], [3,4,5], [6,7,8],    ])\n",
    "\n",
    "t = map(lambda o:stop() if o==6 else o, Inf.count)\n",
    "test_eq(chunked(t,3), [[0, 1, 2], [3, 4, 5]])\n",
    "t = map(lambda o:stop() if o==7 else o, Inf.count)\n",
    "test_eq(chunked(t,3), [[0, 1, 2], [3, 4, 5], [6]])\n",
    "\n",
    "t = np.arange(10)\n",
    "test_eq(chunked(t,3),      [[0,1,2], [3,4,5], [6,7,8], [9]])\n",
    "test_eq(chunked(t,3,True), [[0,1,2], [3,4,5], [6,7,8],    ])\n",
    "\n",
    "test_eq(chunked([], 3),          [])\n",
    "test_eq(chunked([], n_chunks=3), [])\n",
    "     "
   ]
  },
  {
   "cell_type": "code",
   "execution_count": null,
   "metadata": {},
   "outputs": [],
   "source": [
    "#|export\n",
    "def otherwise(x, tst, y):\n",
    "    \"`y if tst(x) else x`\"\n",
    "    return y if tst(x) else x"
   ]
  },
  {
   "cell_type": "code",
   "execution_count": null,
   "metadata": {},
   "outputs": [],
   "source": [
    "test_eq(otherwise(2+1, gt(3), 4), 3)\n",
    "test_eq(otherwise(2+1, gt(2), 4), 4)     "
   ]
  },
  {
   "cell_type": "markdown",
   "metadata": {},
   "source": [
    "# Attribute Helpers"
   ]
  },
  {
   "cell_type": "markdown",
   "metadata": {},
   "source": [
    "These functions reduce boilerplate when setting or manipulating attributes or properties of objects.\n",
    "\n"
   ]
  },
  {
   "cell_type": "code",
   "execution_count": null,
   "metadata": {},
   "outputs": [],
   "source": [
    "#|export\n",
    "def custom_dir(c, add):\n",
    "    \"Implement custom `__dir__`, adding `add` to `cls`\"\n",
    "    return object.__dir__(c) + listify(add)"
   ]
  },
  {
   "cell_type": "markdown",
   "metadata": {},
   "source": [
    "`custom_dir` allows you extract the `__dict__` property of a class and appends the list `add` to it."
   ]
  },
  {
   "cell_type": "code",
   "execution_count": null,
   "metadata": {},
   "outputs": [],
   "source": [
    "class _T: \n",
    "    def f(): pass\n",
    "\n",
    "s = custom_dir(_T(), add=['foo', 'bar'])\n",
    "assert {'foo', 'bar', 'f'}.issubset(s)"
   ]
  },
  {
   "cell_type": "code",
   "execution_count": null,
   "metadata": {},
   "outputs": [],
   "source": [
    "#|export\n",
    "class AttrDict(dict):\n",
    "    \"`dict` subclass that also provides access to keys as attrs\"\n",
    "    def __getattr__(self, k): return self[k] if k in self.keys() else stop(AttributeError(k))\n",
    "    # choose what method to use based on the key (if it starts with _ or not)\n",
    "    def __setattr__(self, k, v): (self.__setitem__, super().__setattr__)[k[0]=='_'](k,v)\n",
    "    def __dir__(self): return super().__dir__() + list(self.keys())\n",
    "    # to display in Jupyter Notebook\n",
    "    def _repr_markdown_(self): return f'```json\\n{pprint.pformat(self, indent=2)}\\n```'"
   ]
  },
  {
   "cell_type": "code",
   "execution_count": null,
   "metadata": {},
   "outputs": [],
   "source": [
    "d = AttrDict(a=1, b=\"two\")\n",
    "test_eq(d.a, 1)\n",
    "test_eq(d['b'], 'two')\n",
    "test_eq(d.get('c','nope'), 'nope')\n",
    "d.b = 2\n",
    "test_eq(d.b, 2)\n",
    "test_eq(d['b'], 2)\n",
    "d['b'] = 3\n",
    "test_eq(d['b'], 3)\n",
    "test_eq(d.b, 3)\n",
    "assert 'a' in dir(d)"
   ]
  },
  {
   "cell_type": "markdown",
   "metadata": {},
   "source": [
    "The `__setattr__` method in `AttrDict` is designed to differentiate between setting a dictionary item and setting an instance attribute based on the leading character of the key. If the key starts with an underscore, it treats it as a regular attribute; otherwise, it treats it as a dictionary item. This design allows for a flexible and intuitive way to interact with dictionary-like objects using attribute access syntax."
   ]
  },
  {
   "cell_type": "code",
   "execution_count": null,
   "metadata": {},
   "outputs": [
    {
     "name": "stdout",
     "output_type": "stream",
     "text": [
      "{'foo': 'bar'}\n",
      "secret\n",
      "{'foo': 'bar'}\n"
     ]
    }
   ],
   "source": [
    "#| hide\n",
    "d = AttrDict()\n",
    "\n",
    "# Setting a regular attribute\n",
    "d.foo = 'bar'  # This calls self.__setitem__('foo', 'bar')\n",
    "print(d)       # Output: {'foo': 'bar'}\n",
    "\n",
    "# Setting an attribute with a leading underscore\n",
    "d._private = 'secret'  # This calls super().__setattr__('_private', 'secret')\n",
    "print(d._private)      # Output: 'secret'\n",
    "print(d)               # Output: {'foo': 'bar'}\n"
   ]
  },
  {
   "cell_type": "markdown",
   "metadata": {},
   "source": [
    "`AttrDict` will pretty print in Jupyter Notebooks:"
   ]
  },
  {
   "cell_type": "code",
   "execution_count": null,
   "metadata": {},
   "outputs": [
    {
     "data": {
      "text/markdown": [
       "```json\n",
       "{ 'a': 1,\n",
       "  'b': {'c': 1, 'd': 2},\n",
       "  'c': {'c': 1, 'd': 2},\n",
       "  'd': {'c': 1, 'd': 2},\n",
       "  'e': {'c': 1, 'd': 2},\n",
       "  'f': {'c': 1, 'd': 2, 'e': 4, 'f': [1, 2, 3, 4, 5]}}\n",
       "```"
      ],
      "text/plain": [
       "{'a': 1,\n",
       " 'b': {'c': 1, 'd': 2},\n",
       " 'c': {'c': 1, 'd': 2},\n",
       " 'd': {'c': 1, 'd': 2},\n",
       " 'e': {'c': 1, 'd': 2},\n",
       " 'f': {'c': 1, 'd': 2, 'e': 4, 'f': [1, 2, 3, 4, 5]}}"
      ]
     },
     "execution_count": null,
     "metadata": {},
     "output_type": "execute_result"
    }
   ],
   "source": [
    "_test_dict = {'a':1, 'b': {'c':1, 'd':2}, 'c': {'c':1, 'd':2}, 'd': {'c':1, 'd':2},\n",
    "              'e': {'c':1, 'd':2}, 'f': {'c':1, 'd':2, 'e': 4, 'f':[1,2,3,4,5]}}\n",
    "AttrDict(_test_dict)"
   ]
  },
  {
   "cell_type": "code",
   "execution_count": null,
   "metadata": {},
   "outputs": [],
   "source": [
    "#|export\n",
    "class NS(SimpleNamespace):\n",
    "    \"`SimpleNamespace` subclass that also adds `iter` and `dict` support\"\n",
    "    def __iter__(self): return iter(self.__dict__)\n",
    "    def __getitem__(self, x): return self.__dict__[x]\n",
    "    def __setitem__(self, x, y): self.__dict__[x] = y"
   ]
  },
  {
   "cell_type": "code",
   "execution_count": null,
   "metadata": {},
   "outputs": [
    {
     "data": {
      "text/plain": [
       "namespace(a=1,\n",
       "          b={'c': 1, 'd': 2},\n",
       "          c={'c': 1, 'd': 2},\n",
       "          d={'c': 1, 'd': 2},\n",
       "          e={'c': 1, 'd': 2},\n",
       "          f={'c': 1, 'd': 2, 'e': 4, 'f': [1, 2, 3, 4, 5]})"
      ]
     },
     "execution_count": null,
     "metadata": {},
     "output_type": "execute_result"
    }
   ],
   "source": [
    "d = NS(**_test_dict)\n",
    "d"
   ]
  },
  {
   "cell_type": "markdown",
   "metadata": {},
   "source": [
    "...but you can also index it to get/set:"
   ]
  },
  {
   "cell_type": "code",
   "execution_count": null,
   "metadata": {},
   "outputs": [
    {
     "data": {
      "text/plain": [
       "1"
      ]
     },
     "execution_count": null,
     "metadata": {},
     "output_type": "execute_result"
    }
   ],
   "source": [
    "d['a']"
   ]
  },
  {
   "cell_type": "markdown",
   "metadata": {},
   "source": [
    "...and iterate t:"
   ]
  },
  {
   "cell_type": "code",
   "execution_count": null,
   "metadata": {},
   "outputs": [
    {
     "data": {
      "text/plain": [
       "['a', 'b', 'c', 'd', 'e', 'f']"
      ]
     },
     "execution_count": null,
     "metadata": {},
     "output_type": "execute_result"
    }
   ],
   "source": [
    "list(d)"
   ]
  },
  {
   "cell_type": "markdown",
   "metadata": {},
   "source": [
    "# Collection functions"
   ]
  },
  {
   "cell_type": "markdown",
   "metadata": {},
   "source": [
    "Functions that manipulate popular python collections."
   ]
  },
  {
   "cell_type": "code",
   "execution_count": null,
   "metadata": {},
   "outputs": [],
   "source": [
    "#| export\n",
    "def partition(coll, f):\n",
    "    \"Partition a collection by a predicate\"\n",
    "    # truthes and falses\n",
    "    ts, fs = [], []\n",
    "    for o in coll: (fs, ts)[f(o)].append(o)\n",
    "    if isinstance(coll, tuple):\n",
    "        typ = type(coll)\n",
    "        ts, fs = typ(ts), typ(fs)\n",
    "    return ts, fs"
   ]
  },
  {
   "cell_type": "code",
   "execution_count": null,
   "metadata": {},
   "outputs": [],
   "source": [
    "ts,fs = partition(range(10), mod(2))\n",
    "test_eq(fs, [0,2,4,6,8])\n",
    "test_eq(ts, [1,3,5,7,9])"
   ]
  },
  {
   "cell_type": "code",
   "execution_count": null,
   "metadata": {},
   "outputs": [],
   "source": [
    "#|export\n",
    "def flatten(o):\n",
    "    \"Concatenate all collections and items as a generator\"\n",
    "    for item in o:\n",
    "        if isinstance(item, str): yield item; continue\n",
    "        try: yield from flatten(item)\n",
    "        except TypeError: yield item"
   ]
  },
  {
   "cell_type": "markdown",
   "metadata": {},
   "source": [
    "If `item` is a string, it yields the string and uses `continue` to move to the next iteration of the loop. The `continue` statement ensures that no further processing is done on strings.\n",
    "Strings are treated specially because strings are iterable (a string is a sequence of characters), and iterating over them would split them into individual characters, which is usually not desired in a flattening context."
   ]
  },
  {
   "cell_type": "code",
   "execution_count": null,
   "metadata": {},
   "outputs": [],
   "source": [
    "#|export\n",
    "def concat(colls)->list:\n",
    "    \"Concatenate all collections and items as a list\"\n",
    "    return list(flatten(colls))"
   ]
  },
  {
   "cell_type": "code",
   "execution_count": null,
   "metadata": {},
   "outputs": [
    {
     "data": {
      "text/plain": [
       "[0, 1, 2, 3, 4, 5]"
      ]
     },
     "execution_count": null,
     "metadata": {},
     "output_type": "execute_result"
    }
   ],
   "source": [
    "concat([(o for o in range(2)),[2,3,4], 5])"
   ]
  },
  {
   "cell_type": "code",
   "execution_count": null,
   "metadata": {},
   "outputs": [
    {
     "data": {
      "text/plain": [
       "['abc', 'xyz', 'foo', 'bar']"
      ]
     },
     "execution_count": null,
     "metadata": {},
     "output_type": "execute_result"
    }
   ],
   "source": [
    "concat([[\"abc\", \"xyz\"], [\"foo\", \"bar\"]])"
   ]
  },
  {
   "cell_type": "code",
   "execution_count": null,
   "metadata": {},
   "outputs": [],
   "source": [
    "#|export\n",
    "def strcat(its, sep:str='')->str:\n",
    "    \"Concatenate stringified items `its`\"\n",
    "    return sep.join(map(str,its))"
   ]
  },
  {
   "cell_type": "code",
   "execution_count": null,
   "metadata": {},
   "outputs": [],
   "source": [
    "test_eq(strcat(['a',2]), 'a2')\n",
    "test_eq(strcat(['a',2], ';'), 'a;2')"
   ]
  },
  {
   "cell_type": "code",
   "execution_count": null,
   "metadata": {},
   "outputs": [],
   "source": [
    "#|export\n",
    "def detuplify(x):\n",
    "    \"If `x` is a tuple with one thing, extract it\"\n",
    "    return None if len(x)==0 else x[0] if len(x)==1 and getattr(x, 'ndim', 1)==1 else x"
   ]
  },
  {
   "cell_type": "code",
   "execution_count": null,
   "metadata": {},
   "outputs": [],
   "source": [
    "test_eq(detuplify(()),None)\n",
    "test_eq(detuplify([1]),1)\n",
    "test_eq(detuplify([1,2]), [1,2])\n",
    "test_eq(detuplify(np.array([[1,2]])), np.array([[1,2]]))"
   ]
  },
  {
   "cell_type": "code",
   "execution_count": null,
   "metadata": {},
   "outputs": [],
   "source": [
    "#|export\n",
    "def replicate(item, match):\n",
    "    \"Create tuple of `item` copied `len(match)` times\"\n",
    "    return (item,) * len(match)"
   ]
  },
  {
   "cell_type": "code",
   "execution_count": null,
   "metadata": {},
   "outputs": [],
   "source": [
    "t = [1,1]\n",
    "test_eq(replicate([1,2], t),([1,2],[1,2]))\n",
    "test_eq(replicate(1, t),(1,1))"
   ]
  },
  {
   "cell_type": "code",
   "execution_count": null,
   "metadata": {},
   "outputs": [
    {
     "data": {
      "text/plain": [
       "(1, 3, 1, 3, 1, 3, 1, 3, 1, 3)"
      ]
     },
     "execution_count": null,
     "metadata": {},
     "output_type": "execute_result"
    }
   ],
   "source": [
    "(1,3)*5"
   ]
  },
  {
   "cell_type": "code",
   "execution_count": null,
   "metadata": {},
   "outputs": [],
   "source": []
  },
  {
   "cell_type": "code",
   "execution_count": null,
   "metadata": {},
   "outputs": [],
   "source": []
  },
  {
   "cell_type": "code",
   "execution_count": null,
   "metadata": {},
   "outputs": [],
   "source": []
  },
  {
   "cell_type": "code",
   "execution_count": null,
   "metadata": {},
   "outputs": [],
   "source": []
  },
  {
   "cell_type": "code",
   "execution_count": null,
   "metadata": {},
   "outputs": [],
   "source": []
  },
  {
   "cell_type": "code",
   "execution_count": null,
   "metadata": {},
   "outputs": [],
   "source": []
  },
  {
   "cell_type": "code",
   "execution_count": null,
   "metadata": {},
   "outputs": [],
   "source": []
  },
  {
   "cell_type": "code",
   "execution_count": null,
   "metadata": {},
   "outputs": [],
   "source": []
  },
  {
   "cell_type": "code",
   "execution_count": null,
   "metadata": {},
   "outputs": [],
   "source": []
  },
  {
   "cell_type": "code",
   "execution_count": null,
   "metadata": {},
   "outputs": [],
   "source": []
  },
  {
   "cell_type": "code",
   "execution_count": null,
   "metadata": {},
   "outputs": [],
   "source": [
    "#|hide\n",
    "#|eval: false\n",
    "from nbdev import nbdev_export\n",
    "nbdev_export()"
   ]
  },
  {
   "cell_type": "code",
   "execution_count": null,
   "metadata": {},
   "outputs": [],
   "source": []
  },
  {
   "cell_type": "code",
   "execution_count": null,
   "metadata": {},
   "outputs": [],
   "source": []
  }
 ],
 "metadata": {
  "kernelspec": {
   "display_name": "Python 3 (ipykernel)",
   "language": "python",
   "name": "python3"
  }
 },
 "nbformat": 4,
 "nbformat_minor": 4
}
