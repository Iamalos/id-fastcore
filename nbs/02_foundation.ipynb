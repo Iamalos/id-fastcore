{
 "cells": [
  {
   "cell_type": "code",
   "execution_count": null,
   "id": "2f298e7b-abc3-47c9-8026-91de5b97e46f",
   "metadata": {},
   "outputs": [],
   "source": [
    "#|default_exp foundation"
   ]
  },
  {
   "cell_type": "code",
   "execution_count": null,
   "id": "5a9363c1-c9a3-4c27-8563-8b73361ae686",
   "metadata": {},
   "outputs": [],
   "source": [
    "#|export\n",
    "from fastcore.imports import *\n",
    "from fastcore.basics import *\n",
    "from functools import lru_cache\n",
    "from contextlib import contextmanager\n",
    "from copy import copy\n",
    "from configparser import ConfigParser\n",
    "import random,pickle,inspect"
   ]
  },
  {
   "cell_type": "code",
   "execution_count": null,
   "id": "9234a5eb-3e00-4fe9-9c08-ccd9a1d61b58",
   "metadata": {},
   "outputs": [],
   "source": [
    "#|hide\n",
    "from fastcore.test import *\n",
    "from nbdev.showdoc import *\n",
    "from fastcore.nb_imports import *"
   ]
  },
  {
   "cell_type": "markdown",
   "id": "b0a5ea9b-804c-4b9c-96e6-7f7d8de4f432",
   "metadata": {},
   "source": [
    "# Foundation"
   ]
  },
  {
   "cell_type": "markdown",
   "id": "07041415-3fa4-4d62-8a5c-f05a501f7685",
   "metadata": {},
   "source": [
    "> The `L` class and helpers for it"
   ]
  },
  {
   "cell_type": "markdown",
   "id": "1a2f4866-033a-43b5-aafd-8073df463616",
   "metadata": {},
   "source": [
    "## Foundational Functions"
   ]
  },
  {
   "cell_type": "code",
   "execution_count": null,
   "id": "faa7509d-2b85-4733-80b1-49d66b009ad2",
   "metadata": {},
   "outputs": [],
   "source": [
    "#|export\n",
    "@contextmanager\n",
    "def working_directory(path):\n",
    "    \"Change working directory to `path` and return to previous on exit.\"\n",
    "    prev_cwd = Path.cwd()\n",
    "    os.chdir(path)\n",
    "    try: yield\n",
    "    finally: os.chdir(prev_cwd)"
   ]
  },
  {
   "cell_type": "code",
   "execution_count": null,
   "id": "9a57a3f2-e200-4d9a-a89a-be736342c61b",
   "metadata": {},
   "outputs": [],
   "source": [
    "#|export\n",
    "def add_docs(cls, cls_doc=None, **docs):\n",
    "    \"Copy values from `docs` to `cls` docstrings, and confirm all public methods are documented\"\n",
    "    if cls_doc is not None: cls.__doc__ = cls_doc\n",
    "    for k, v in docs.items():\n",
    "        f = getattr(cls, k)\n",
    "        if hasattr(f, '__func__'): f = f.__func__ # required for class methods\n",
    "        f.__doc__ = v\n",
    "        \n",
    "    # List of public callables without docstring\n",
    "    nodoc = [c for n, c in vars(cls).items() if callable(c)\n",
    "             and not n.startswith('_') and c.__doc__ is None and c.__doc__ is None]\n",
    "    assert not nodoc, f\"Missing docs: {nodoc}\"\n",
    "    assert cls.__doc__ is not None, f\"Missing class docs: {cls}\""
   ]
  },
  {
   "cell_type": "code",
   "execution_count": null,
   "id": "30eef814-a21f-494c-9c0a-e46946c28758",
   "metadata": {},
   "outputs": [
    {
     "data": {
      "text/plain": [
       "dict_items([('a', 1), ('b', 2)])"
      ]
     },
     "execution_count": null,
     "metadata": {},
     "output_type": "execute_result"
    }
   ],
   "source": [
    "class _T:\n",
    "    def __init__(self, a, b):\n",
    "        self.a = a\n",
    "        self.b = b\n",
    "a = _T(1,2)\n",
    "vars(a).items()"
   ]
  },
  {
   "cell_type": "markdown",
   "id": "a5407489-63bc-4147-8048-3befffc25bdf",
   "metadata": {},
   "source": [
    "`add_docs` allows you to add docstrings to a class and its associated methods. This function allows you to group docstrings together seperate from your code, which enables you to define one-line functions as well as organize your code more succintly. We believe this confers a number of benefits which we discuss in our style guide."
   ]
  },
  {
   "cell_type": "markdown",
   "id": "777e74a5-9915-4a96-aa62-e6d751cea827",
   "metadata": {},
   "source": [
    "Suppose you have the following undocumented class:"
   ]
  },
  {
   "cell_type": "code",
   "execution_count": null,
   "id": "ef25a0dd-6951-4ba7-9707-2436c4a126c6",
   "metadata": {},
   "outputs": [],
   "source": [
    "class T:\n",
    "    def foo(self): pass\n",
    "    def bar(self): pass"
   ]
  },
  {
   "cell_type": "markdown",
   "id": "df12d2f0-8cce-45ee-b7b4-1d7708e4a38f",
   "metadata": {},
   "source": [
    "You can add documentation to this class like so:"
   ]
  },
  {
   "cell_type": "code",
   "execution_count": null,
   "id": "fa1a0749-9952-4360-99ba-fa537ba1e28e",
   "metadata": {},
   "outputs": [],
   "source": [
    "add_docs(T, cls_doc=\"A docstring for the class.\",\n",
    "            foo=\"The foo method.\",\n",
    "            bar=\"The bar method.\")"
   ]
  },
  {
   "cell_type": "code",
   "execution_count": null,
   "id": "8f6c0b52-903e-44d1-959c-983123ec5454",
   "metadata": {},
   "outputs": [],
   "source": [
    "test_eq(T.__doc__, \"A docstring for the class.\")\n",
    "test_eq(T.foo.__doc__, \"The foo method.\")\n",
    "test_eq(T.bar.__doc__, \"The bar method.\")"
   ]
  },
  {
   "cell_type": "markdown",
   "id": "59e2f402-8ec9-466f-b22a-1d9584c1d388",
   "metadata": {},
   "source": [
    "`add_docs` also validates that all of  your public methods contain a docstring.  If one of your methods is not documented, it will raise an error:"
   ]
  },
  {
   "cell_type": "code",
   "execution_count": null,
   "id": "a8f09f6b-871e-4476-b29d-bb44c5b3a231",
   "metadata": {},
   "outputs": [],
   "source": [
    "class T:\n",
    "    def foo(self): pass\n",
    "    def bar(self): pass\n",
    "\n",
    "f=lambda: add_docs(T, \"A docstring for the class.\", foo=\"The foo method.\")\n",
    "test_fail(f, contains=\"Missing docs\")"
   ]
  },
  {
   "cell_type": "code",
   "execution_count": null,
   "id": "cc17989d-73a3-4039-a2cc-a4ba06810307",
   "metadata": {},
   "outputs": [],
   "source": [
    "#|hide\n",
    "class _T:\n",
    "    def f(self): pass\n",
    "    @classmethod\n",
    "    def g(cls): pass\n",
    "add_docs(_T, \"a\", f=\"f\", g=\"g\")\n",
    "\n",
    "test_eq(_T.__doc__, \"a\")\n",
    "test_eq(_T.f.__doc__, \"f\")\n",
    "test_eq(_T.g.__doc__,\"g\")"
   ]
  },
  {
   "cell_type": "code",
   "execution_count": null,
   "id": "0b3aecc6-a52b-42ac-8bdf-5101cf397cff",
   "metadata": {},
   "outputs": [],
   "source": [
    "#|export\n",
    "def docs(cls):\n",
    "    \"Decorator version of `add_docs`, using `_docs` dict\"\n",
    "    add_docs(cls, **cls._docs)\n",
    "    return cls"
   ]
  },
  {
   "cell_type": "markdown",
   "id": "1af02ce0-f96a-41bb-98e0-4385cd359697",
   "metadata": {},
   "source": [
    "Instead of using `add_docs`, you can use the decorator `docs` as shown below.  Note that the docstring for the class can be set with the argument `cls_doc`:"
   ]
  },
  {
   "cell_type": "code",
   "execution_count": null,
   "id": "565012d7-5104-4b78-a74e-d4a4a783401e",
   "metadata": {},
   "outputs": [],
   "source": [
    "@docs\n",
    "class _T:\n",
    "    def f(self): pass\n",
    "    def g(self): pass\n",
    "    \n",
    "    _docs = dict(cls_doc=\"The class docstring\",\n",
    "                 f=\"The docstring for method f\",\n",
    "                 g=\"A different docstring for method g.\")\n",
    "    \n",
    "test_eq(_T.__doc__, \"The class docstring\")\n",
    "test_eq(_T.f.__doc__, \"The docstring for method f\")\n",
    "test_eq(_T.g.__doc__,\"A different docstring for method g.\")"
   ]
  },
  {
   "cell_type": "markdown",
   "id": "0ddb023b-d7f1-4835-be88-3c30607e9796",
   "metadata": {},
   "source": [
    "For either the `docs` decorator or the `add_docs` function, you can still define your docstrings in the normal way.  Below we set the docstring for the class as usual, but define the method docstrings through the `_docs` attribute:"
   ]
  },
  {
   "cell_type": "code",
   "execution_count": null,
   "id": "047cdbe1-1680-4a0b-ab63-68e9d4613521",
   "metadata": {},
   "outputs": [],
   "source": [
    "@docs\n",
    "class _T:\n",
    "    \"The class docstring\"\n",
    "    def f(self): pass\n",
    "    _docs = dict(f=\"The docstring for method f.\")\n",
    "\n",
    "    \n",
    "test_eq(_T.__doc__, \"The class docstring\")\n",
    "test_eq(_T.f.__doc__, \"The docstring for method f.\")"
   ]
  },
  {
   "cell_type": "code",
   "execution_count": null,
   "id": "5406f629-63be-49be-b85e-a632010fa5a5",
   "metadata": {},
   "outputs": [
    {
     "data": {
      "text/markdown": [
       "---\n",
       "\n",
       "### is_iter\n",
       "\n",
       ">      is_iter (o)\n",
       "\n",
       "Test whether `o` can be used in a `for` loop"
      ],
      "text/plain": [
       "---\n",
       "\n",
       "### is_iter\n",
       "\n",
       ">      is_iter (o)\n",
       "\n",
       "Test whether `o` can be used in a `for` loop"
      ]
     },
     "execution_count": null,
     "metadata": {},
     "output_type": "execute_result"
    }
   ],
   "source": [
    "show_doc(is_iter)"
   ]
  },
  {
   "cell_type": "code",
   "execution_count": null,
   "id": "251f0c3b-c6bc-4ff6-8cd2-db16529ce3c7",
   "metadata": {},
   "outputs": [],
   "source": [
    "assert is_iter([1])\n",
    "assert not is_iter(array(1))\n",
    "assert is_iter(array([1,2]))\n",
    "assert (o for o in range(3))"
   ]
  },
  {
   "cell_type": "code",
   "execution_count": null,
   "id": "b9af08ff-33ec-4b37-b28b-88f870b4e467",
   "metadata": {},
   "outputs": [],
   "source": [
    "#| export\n",
    "def coll_repr(c, max_n=10):\n",
    "    \"String repr of up to `max_n` items of (possibly lazy) collection `c`\"\n",
    "    return f'(#{len(c)}) [' + ','.join(itertools.islice(map(repr,c), max_n)) + (\n",
    "        '...' if len(c) > max_n else '') + ']'"
   ]
  },
  {
   "cell_type": "code",
   "execution_count": null,
   "id": "b1a3b794-613a-4743-9b7a-526e24dc0c65",
   "metadata": {},
   "outputs": [
    {
     "data": {
      "text/plain": [
       "['0', '1', '2', '3', '4', '5', '6', '7', '8', '9']"
      ]
     },
     "execution_count": null,
     "metadata": {},
     "output_type": "execute_result"
    }
   ],
   "source": [
    "#| hide\n",
    "it = (o for o in range(100))\n",
    "list(itertools.islice(map(repr,it), 10))"
   ]
  },
  {
   "cell_type": "markdown",
   "id": "e967cf93-3b41-4ab0-a436-dacecffc398e",
   "metadata": {},
   "source": [
    "`coll_repr` is used to provide a more informative [`__repr__`](https://stackoverflow.com/questions/1984162/purpose-of-pythons-repr) about list-like objects.  `coll_repr` is used by `L` to build a `__repr__` that displays the length of a list in addition to a preview of a list.\n",
    "\n",
    "Below is an example of the `__repr__` string created for a list of 1000 elements:"
   ]
  },
  {
   "cell_type": "code",
   "execution_count": null,
   "id": "49baadbe-72f0-4ff4-a086-5594ff038640",
   "metadata": {},
   "outputs": [],
   "source": [
    "test_eq(coll_repr(range(1000)),    '(#1000) [0,1,2,3,4,5,6,7,8,9...]')\n",
    "test_eq(coll_repr(range(1000), 5), '(#1000) [0,1,2,3,4...]')\n",
    "test_eq(coll_repr(range(10),   5),   '(#10) [0,1,2,3,4...]')\n",
    "test_eq(coll_repr(range(5),    5),    '(#5) [0,1,2,3,4]')"
   ]
  },
  {
   "cell_type": "markdown",
   "id": "4363f6bb-e707-4f8b-9fbc-7bfd1292e9b6",
   "metadata": {},
   "source": [
    "We can set the option `max_n` to optionally preview a specified number of items instead of the default:"
   ]
  },
  {
   "cell_type": "code",
   "execution_count": null,
   "id": "bd0e994f-d26e-4165-9035-17065eec41da",
   "metadata": {},
   "outputs": [],
   "source": [
    "test_eq(coll_repr(range(1000), max_n=5), '(#1000) [0,1,2,3,4...]')"
   ]
  },
  {
   "cell_type": "code",
   "execution_count": null,
   "id": "5e589c77-2503-4263-a372-c2923e4aa488",
   "metadata": {},
   "outputs": [],
   "source": [
    "#|export\n",
    "def is_bool(x):\n",
    "    \"Check whether `x` is a bool or None\"\n",
    "    return isinstance(x, (bool, NoneType)) or risinstance('bool_', x)"
   ]
  },
  {
   "cell_type": "code",
   "execution_count": null,
   "id": "2029d1e9-a3bc-47ee-a488-e7670e9b9927",
   "metadata": {},
   "outputs": [],
   "source": [
    "#|export\n",
    "def mask2idxs(mask):\n",
    "    \"Convert bool mask or index list to index `L`\"\n",
    "    if isinstance(mask, slice): return mask\n",
    "    mask = list(mask)\n",
    "    if len(mask)==0: return []\n",
    "    it = mask[0]\n",
    "    # next line is not entirely clear for me\n",
    "    # if hasattr(it, 'item'): it = it.item()\n",
    "    if is_bool(it): return [i for i,m in enumerate(mask) if m]\n",
    "    return [int(i) for i in mask]"
   ]
  },
  {
   "cell_type": "code",
   "execution_count": null,
   "id": "98866f5a-95f9-43a0-af24-bbd54c75f35e",
   "metadata": {},
   "outputs": [],
   "source": [
    "test_eq(mask2idxs([False,True,False,True]), [1,3])\n",
    "test_eq(mask2idxs(array([False,True,False,True])), [1,3])\n",
    "test_eq(mask2idxs(array([1,2,3])), [1,2,3])"
   ]
  },
  {
   "cell_type": "code",
   "execution_count": null,
   "id": "890c5d61-3f78-438d-82d1-dce81d8acc35",
   "metadata": {},
   "outputs": [],
   "source": [
    "#|export\n",
    "def cycle(o):\n",
    "    \"Like `itertools.cycle` except creates list of `None`s if `o` is empty\"\n",
    "    o = listify(o)\n",
    "    return itertools.cycle(o) if o is not None and len(o) > 0 else itertools.cycle([None])"
   ]
  },
  {
   "cell_type": "code",
   "execution_count": null,
   "id": "6b308157-980e-4108-96a8-f4746842dad3",
   "metadata": {},
   "outputs": [],
   "source": [
    "test_eq(itertools.islice(cycle([1,2,3]),5), [1,2,3,1,2])\n",
    "test_eq(itertools.islice(cycle([]),3), [None]*3)\n",
    "test_eq(itertools.islice(cycle(None),3), [None]*3)\n",
    "test_eq(itertools.islice(cycle(1),3), [1,1,1])"
   ]
  },
  {
   "cell_type": "code",
   "execution_count": null,
   "id": "6f0b959f-f44c-4427-a572-16604c8d5867",
   "metadata": {},
   "outputs": [],
   "source": [
    "#|export\n",
    "def zip_cycle(x, *args):\n",
    "    \"Like `itertools.zip_longest` but `cycle`s through elements of all but first argument\"\n",
    "    return zip(x, *map(cycle, args))"
   ]
  },
  {
   "cell_type": "code",
   "execution_count": null,
   "id": "cbb5faf8-6c49-4623-a5b6-b33a1b49c42f",
   "metadata": {},
   "outputs": [
    {
     "data": {
      "text/plain": [
       "[(1, 'a'), (2, 'b'), (3, 'c'), (4, None)]"
      ]
     },
     "execution_count": null,
     "metadata": {},
     "output_type": "execute_result"
    }
   ],
   "source": [
    "#|hide\n",
    "list(itertools.zip_longest([1,2,3,4],list('abc')))\n",
    "#list(itertools.zip_longest([1,2],list('abc')))"
   ]
  },
  {
   "cell_type": "code",
   "execution_count": null,
   "id": "82ce91fd-45a2-475c-92b8-5da7542b692a",
   "metadata": {},
   "outputs": [],
   "source": [
    "test_eq(zip_cycle([1,2,3,4],list('abc')), [(1, 'a'), (2, 'b'), (3, 'c'), (4, 'a')])\n",
    "test_eq(zip_cycle([1,2],list('abc')), [(1, 'a'), (2, 'b')])"
   ]
  },
  {
   "cell_type": "code",
   "execution_count": null,
   "id": "1d5ba729-ea12-462e-b5f6-d34a93201abf",
   "metadata": {},
   "outputs": [],
   "source": [
    "#|export\n",
    "def is_indexer(idx):\n",
    "    \"\"\"Test whether `idx` will index a single item in a list. \n",
    "    if `getattr` returns `ndim` >0, it will not index into single item in a list -> False\"\"\"\n",
    "    return isinstance(idx, int) or not getattr(idx, 'ndim', 1)"
   ]
  },
  {
   "cell_type": "code",
   "execution_count": null,
   "id": "5ff426cc-a2b4-461b-944a-a6f478cf1e09",
   "metadata": {},
   "outputs": [],
   "source": [
    "#|hide\n",
    "test_eq(not getattr(array(2), 'ndim', 1), True)\n",
    "test_eq(not getattr(array([1,2]), 'ndim', 1), False)"
   ]
  },
  {
   "cell_type": "markdown",
   "id": "bbb25a91-157b-4a61-96b2-5f21686a6c8b",
   "metadata": {},
   "source": [
    "You can, for example index a single item in a list with an integer or a 0-dimensional numpy array:"
   ]
  },
  {
   "cell_type": "code",
   "execution_count": null,
   "id": "f260c27a-3489-410b-a122-5bf6c754511c",
   "metadata": {},
   "outputs": [],
   "source": [
    "assert is_indexer(1)\n",
    "assert is_indexer(np.array(1))"
   ]
  },
  {
   "cell_type": "markdown",
   "id": "8fe548b3-a1b0-4f7a-883e-abf97eb6c077",
   "metadata": {},
   "source": [
    "However, you cannot index into single item in a list with another list or a numpy array with ndim > 0. "
   ]
  },
  {
   "cell_type": "code",
   "execution_count": null,
   "id": "62638e38-9189-499c-ad00-7b58b8cdacc1",
   "metadata": {},
   "outputs": [],
   "source": [
    "assert not is_indexer([1, 2])\n",
    "assert not is_indexer(np.array([[1, 2], [3, 4]]))"
   ]
  },
  {
   "cell_type": "markdown",
   "id": "fef2a68d-2f33-4bdc-8dc9-c78816124c52",
   "metadata": {},
   "source": [
    "## `L` helpers"
   ]
  },
  {
   "cell_type": "code",
   "execution_count": null,
   "id": "e3371a7e-df4a-4052-951c-512da9d3c6b0",
   "metadata": {},
   "outputs": [],
   "source": [
    "#|export\n",
    "class CollBase:\n",
    "    \"Base class for composing a list of `items`\"\n",
    "    def __init__(self, items): self.items = items\n",
    "    def __len__(self): return len(self.items)\n",
    "    def __getitem__(self, k): return self.items[list(k) if isinstance(k, CollBase) else k]\n",
    "    def __setitem__(self, k, v): self.items[list(k) if isinstance(k, CollBase) else k] = v\n",
    "    def __delitem__(self, i): del(self.items[i])\n",
    "    def __repr__(self): return self.items.__repr__()\n",
    "    def __iter__(self): return self.items.__iter__()"
   ]
  },
  {
   "cell_type": "markdown",
   "id": "62ccdcde-5847-406a-96b6-472fe473b8bf",
   "metadata": {},
   "source": [
    "`ColBase` is a base class that emulates the functionality of a python `list`:"
   ]
  },
  {
   "cell_type": "code",
   "execution_count": null,
   "id": "39c99250-b239-4c93-b31f-32868c0bcea4",
   "metadata": {},
   "outputs": [],
   "source": [
    "class _T(CollBase): pass\n",
    "l = _T([1,2,3,4,5])\n",
    "\n",
    "test_eq(len(l), 5) # __len__\n",
    "test_eq(l[-1], 5); test_eq(l[0], 1) #__getitem__\n",
    "l[2] = 100; test_eq(l[2], 100)      # __set_item__\n",
    "del l[0]; test_eq(len(l), 4)        # __delitem__\n",
    "test_eq(str(l), '[2, 100, 4, 5]')   # __repr__"
   ]
  },
  {
   "cell_type": "markdown",
   "id": "702b8642-f016-4edb-bc4c-f7d2e97190c0",
   "metadata": {},
   "source": [
    "## L -"
   ]
  },
  {
   "cell_type": "markdown",
   "id": "5ddeb42d-ce98-44fc-90e9-96a7cd8e3baf",
   "metadata": {},
   "source": [
    "Note to self: I will try to tackle that class piece by piece as some parts (MetaClass and GetAttr) are unclear to me now"
   ]
  },
  {
   "cell_type": "code",
   "execution_count": null,
   "id": "4634518b-b955-4c81-a69e-8948c01c0235",
   "metadata": {},
   "outputs": [],
   "source": [
    "#| export\n",
    "class L(GetAttr, CollBase):#, metaclass=_L_Meta):\n",
    "    \"Behaves like a list of `items` but can also index with list of indices or masks\"\n",
    "    _default = 'items'\n",
    "    def __init__(self, items=None, *rest, use_list=False, match=None):\n",
    "        if (use_list is not None) or not is_array(items):\n",
    "            items = listify(items, *rest, use_list=use_list, match=match)\n",
    "            super().__init__(items)\n",
    "    \n",
    "    @property\n",
    "    def _xtra(self): return None\n",
    "    def _new(self, items, *args, **kwargs): return type(self)(items, *args, use_list=False, **kwargs)\n",
    "    # if indexing with idx does not return a single item wrap return value into L\n",
    "    def __getitem__(self, idx): return self._get(idx) if is_indexer(idx) else L(self._get(idx), use_list=None)\n",
    "    def copy(self): return _new(self.items.copy())\n",
    "\n",
    "    def _get(self, i):\n",
    "        # getattr tries iloc on self.items if they are of pd dataseries type\n",
    "        if is_indexer(i) or isinstance(i, slice): return getattr(self.items, 'iloc', self.items)[i]\n",
    "        i = mask2idxs(i)\n",
    "        return (self.items.iloc[list(i)] if hasattr(self.items, 'iloc')\n",
    "                else self.items.__array__()[(i,)] if hasattr(self.items, '__array__')\n",
    "                else [self.items[i_] for i_ in i])\n",
    "    \n",
    "    def __setitem__(self, idx, o):\n",
    "        \"Set `idx` (can be list of indices, or mask, or int) items to `o` (which is broadcast if not iterable)\"\n",
    "        if isinstance(idx, int): self.items[idx] = o\n",
    "        else:\n",
    "            idx = idx if isinstance(idx, L) else listify(idx)\n",
    "            if not is_iter(o): o = [o]*len(idx)\n",
    "            for i,o_ in zip(idx,o): self.items[i] = o_\n",
    "            \n",
    "    def __eq__(self, b):\n",
    "        if b is None: return False\n",
    "        # array_equal will compare `__array__`\n",
    "        if risinstance('ndarray', b): return array_equal(b, self)\n",
    "        if isinstance(b, (str,dict)) or callable(b): return False\n",
    "        return all_equal(b, self)\n",
    "    \n",
    "    # TODO: check sorted_ex\n",
    "    def sorted(self, key=None, reverse=False): return self._new(sorted_ex(self, key=key, reverse=reverse))\n",
    "    def __iter__(self): return iter(self.items.itertuples() if hasattr(self.items, 'iloc') else self.items)\n",
    "    def __contains__(self, b): return b in self.items\n",
    "    def __reversed__(self): self._new(reversed(self.items))\n",
    "    # TODO: check later\n",
    "    def __invert__(self): self._new(not i for i in self)\n",
    "    def __repr__(self): return repr(self.items)\n",
    "    # TODO: check later\n",
    "    def _repr_pretty_(self, p, cycle):\n",
    "        p.text('...' if cycle else repr(self.items) if is_array(self.items) else coll_repr(self))\n",
    "        \n",
    "    def __mul__ (a,b): return a._new(a.items*b)\n",
    "    def __add__ (a,b): return a._new(a.items + listify(b)) \n",
    "    def __radd__(a,b): return a._new(b)+a\n",
    "    # ?\n",
    "    def __addi__(a,b): \n",
    "        a.items += list(b)\n",
    "        return a\n",
    "    \n",
    "    @classmethod\n",
    "    def split(cls, s, sep=None, maxsplit=-1): return cls(s.split(sep, maxsplit))\n",
    "    @classmethod\n",
    "    def range(cls, a, b=None, step=None): return cls(range_of(a, b=b, step=step))\n",
    "\n",
    "    def map(self, f, *args, **kwargs): pass\n",
    "    def argwhere(self, f, negate=False, **kwargs): pass\n",
    "    def argfirst(self, f, negate=False) :pass\n",
    "    def filter(self, f=noop, negate=False, **kwargs):pass\n",
    "\n",
    "    def enumerate(self): pass\n",
    "    def renumerate(self): pass\n",
    "    def unique(self, sort=False, bidir=False, start=None): pass\n",
    "    def val2idx(self): pass\n",
    "    def cycle(self): pass\n",
    "    def map_dict(self, f=noop, *args, **kwargs): pass\n",
    "    def map_first(self, f=noop, g=noop, *args, **kwargs):pass\n",
    "       \n",
    "\n",
    "    def itemgot(self, *idxs): pass\n",
    "    def attrgot(self, k, default=None): pass\n",
    "\n",
    "    def starmap(self, f, *args, **kwargs): pass\n",
    "    def zip(self, cycled=False): pass\n",
    "    def zipwith(self, *rest, cycled=False): pass\n",
    "    def map_zip(self, f, *args, cycled=False, **kwargs): pass\n",
    "    def map_zipwith(self, f, *rest, cycled=False, **kwargs): pass\n",
    "    def shuffle(self):pass\n",
    "\n",
    "    def concat(self): pass\n",
    "    def reduce(self, f, initial=None): pass\n",
    "    def sum(self): pass\n",
    "    def product(self): pass\n",
    "    def setattrs(self, attr, val): pass"
   ]
  },
  {
   "cell_type": "code",
   "execution_count": null,
   "id": "d7e1a354-3724-4c0d-af3d-193543e893f1",
   "metadata": {},
   "outputs": [],
   "source": [
    "#|export\n",
    "add_docs(L,\n",
    "         __getitem__=\"Retrieve `idx` (can be list of indices, or mask, or int) items\",\n",
    "         range=\"Class Method: Same as `range`, but returns `L`. Can pass collection for `a`, to use `len(a)`\",\n",
    "         split=\"Class Method: Same as `str.split`, but returns an `L`\",\n",
    "         copy=\"Same as `list.copy`, but returns an `L`\",\n",
    "         sorted=\"New `L` sorted by `key`. If key is str use `attrgetter`; if int use `itemgetter`\",\n",
    "         unique=\"Unique items, in stable order\",\n",
    "         val2idx=\"Dict from value to index\",\n",
    "         filter=\"Create new `L` filtered by predicate `f`, passing `args` and `kwargs` to `f`\",\n",
    "         argwhere=\"Like `filter`, but return indices for matching items\",\n",
    "         argfirst=\"Return index of first matching item\",\n",
    "         map=\"Create new `L` with `f` applied to all `items`, passing `args` and `kwargs` to `f`\",\n",
    "         map_first=\"First element of `map_filter`\",\n",
    "         map_dict=\"Like `map`, but creates a dict from `items` to function results\",\n",
    "         starmap=\"Like `map`, but use `itertools.starmap`\",\n",
    "         itemgot=\"Create new `L` with item `idx` of all `items`\",\n",
    "         attrgot=\"Create new `L` with attr `k` (or value `k` for dicts) of all `items`.\",\n",
    "         cycle=\"Same as `itertools.cycle`\",\n",
    "         enumerate=\"Same as `enumerate`\",\n",
    "         renumerate=\"Same as `renumerate`\",\n",
    "         zip=\"Create new `L` with `zip(*items)`\",\n",
    "         zipwith=\"Create new `L` with `self` zip with each of `*rest`\",\n",
    "         map_zip=\"Combine `zip` and `starmap`\",\n",
    "         map_zipwith=\"Combine `zipwith` and `starmap`\",\n",
    "         concat=\"Concatenate all elements of list\",\n",
    "         shuffle=\"Same as `random.shuffle`, but not inplace\",\n",
    "         reduce=\"Wrapper for `functools.reduce`\",\n",
    "         sum=\"Sum of the items\",\n",
    "         product=\"Product of the items\",\n",
    "         setattrs=\"Call `setattr` on all items\"\n",
    "        )"
   ]
  },
  {
   "cell_type": "markdown",
   "id": "4ef8c087-5a67-4204-a208-4768d8f76eb5",
   "metadata": {},
   "source": [
    "By calling Sequence.register(ClassName), you are declaring that ClassName should be considered a virtual subclass of Sequence. This does not enforce any checks or require ClassName to implement any of the methods defined by Sequence; it merely updates the internal subclass check mechanism."
   ]
  },
  {
   "cell_type": "code",
   "execution_count": null,
   "id": "c64ce007-8f59-4f2e-972b-a42955410ffe",
   "metadata": {},
   "outputs": [],
   "source": [
    "#|export\n",
    "Sequence.register(L);"
   ]
  },
  {
   "cell_type": "markdown",
   "id": "f84940f2-2ca7-4843-bf60-0a8df1a48da6",
   "metadata": {},
   "source": [
    "`L` is a drop in replacement for a python `list`.  Inspired by [NumPy](http://www.numpy.org/), `L`,  supports advanced indexing and has additional methods (outlined below) that provide additional functionality and encourage simple expressive code. For example, the code below takes a list of pairs, selects the second item of each pair, takes its absolute value, filters items greater than 4, and adds them up:"
   ]
  },
  {
   "cell_type": "code",
   "execution_count": null,
   "id": "43eef066-0586-4c7f-82f5-5ab4811c1d69",
   "metadata": {},
   "outputs": [],
   "source": [
    "# ?? replicate\n",
    "from fastcore.utils import gt"
   ]
  },
  {
   "cell_type": "code",
   "execution_count": null,
   "id": "3e92cb9e-1c79-4dc4-a555-417928659be3",
   "metadata": {},
   "outputs": [
    {
     "data": {
      "text/plain": [
       "\u001b[0;31mSignature:\u001b[0m \u001b[0mgt\u001b[0m\u001b[0;34m(\u001b[0m\u001b[0ma\u001b[0m\u001b[0;34m,\u001b[0m \u001b[0mb\u001b[0m\u001b[0;34m=\u001b[0m\u001b[0;34m<\u001b[0m\u001b[0mobject\u001b[0m \u001b[0mobject\u001b[0m \u001b[0mat\u001b[0m \u001b[0;36m0x10497b990\u001b[0m\u001b[0;34m>\u001b[0m\u001b[0;34m)\u001b[0m\u001b[0;34m\u001b[0m\u001b[0;34m\u001b[0m\u001b[0m\n",
       "\u001b[0;31mDocstring:\u001b[0m Same as `operator.gt`, or returns partial if 1 arg\n",
       "\u001b[0;31mSource:\u001b[0m        \u001b[0;32mdef\u001b[0m \u001b[0m_inner\u001b[0m\u001b[0;34m(\u001b[0m\u001b[0ma\u001b[0m\u001b[0;34m,\u001b[0m \u001b[0mb\u001b[0m\u001b[0;34m=\u001b[0m\u001b[0m_dumobj\u001b[0m\u001b[0;34m)\u001b[0m\u001b[0;34m:\u001b[0m \u001b[0;32mreturn\u001b[0m \u001b[0m_oper\u001b[0m\u001b[0;34m(\u001b[0m\u001b[0mop\u001b[0m\u001b[0;34m,\u001b[0m \u001b[0ma\u001b[0m\u001b[0;34m,\u001b[0m\u001b[0mb\u001b[0m\u001b[0;34m)\u001b[0m\u001b[0;34m\u001b[0m\u001b[0;34m\u001b[0m\u001b[0m\n",
       "\u001b[0;31mFile:\u001b[0m      ~/mambaforge/lib/python3.10/site-packages/fastcore/basics.py\n",
       "\u001b[0;31mType:\u001b[0m      function\n"
      ]
     },
     "metadata": {},
     "output_type": "display_data"
    }
   ],
   "source": [
    "gt??"
   ]
  },
  {
   "cell_type": "code",
   "execution_count": null,
   "id": "76b671d2-a62c-4ca3-9696-5331226f292d",
   "metadata": {},
   "outputs": [],
   "source": []
  },
  {
   "cell_type": "code",
   "execution_count": null,
   "id": "8bc92eb3-999a-48f9-9298-30d660992de3",
   "metadata": {},
   "outputs": [],
   "source": []
  },
  {
   "cell_type": "code",
   "execution_count": null,
   "id": "00ba1826-5a07-49fb-8d6d-f924ab89e577",
   "metadata": {},
   "outputs": [],
   "source": []
  },
  {
   "cell_type": "code",
   "execution_count": null,
   "id": "54db15cd-258c-419e-adee-2280917f7e6c",
   "metadata": {},
   "outputs": [],
   "source": []
  },
  {
   "cell_type": "code",
   "execution_count": null,
   "id": "8fe3eeb5-f40a-43c7-ad5e-c960e494681d",
   "metadata": {},
   "outputs": [],
   "source": []
  },
  {
   "cell_type": "code",
   "execution_count": null,
   "id": "0f4b923b-abf9-41b6-b721-39f0b90e9626",
   "metadata": {},
   "outputs": [],
   "source": []
  },
  {
   "cell_type": "code",
   "execution_count": null,
   "id": "a62fd126-27df-4a74-a4fa-44fa2f2d3704",
   "metadata": {},
   "outputs": [],
   "source": []
  },
  {
   "cell_type": "code",
   "execution_count": null,
   "id": "b1ad5320-007b-4290-bd4a-d11fec5deade",
   "metadata": {},
   "outputs": [],
   "source": [
    "#|hide\n",
    "#|eval: false\n",
    "from nbdev import nbdev_export\n",
    "nbdev_export()"
   ]
  },
  {
   "cell_type": "code",
   "execution_count": null,
   "id": "0c05d22a-feb2-4c64-b443-b68bb865aa9e",
   "metadata": {},
   "outputs": [],
   "source": []
  }
 ],
 "metadata": {
  "kernelspec": {
   "display_name": "Python 3 (ipykernel)",
   "language": "python",
   "name": "python3"
  }
 },
 "nbformat": 4,
 "nbformat_minor": 5
}
