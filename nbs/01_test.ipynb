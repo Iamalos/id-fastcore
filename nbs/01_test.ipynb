{
 "cells": [
  {
   "cell_type": "code",
   "execution_count": null,
   "id": "eaab1cbb-4a21-4dbf-a133-f99e57791a1a",
   "metadata": {},
   "outputs": [],
   "source": [
    "#|default_exp test"
   ]
  },
  {
   "cell_type": "code",
   "execution_count": null,
   "id": "ea3a5482-5ce9-44c2-a282-4539f3247dc4",
   "metadata": {},
   "outputs": [],
   "source": [
    "#|export\n",
    "from id_fastcore.imports import *\n",
    "from collections import Counter\n",
    "from contextlib import redirect_stdout"
   ]
  },
  {
   "cell_type": "code",
   "execution_count": null,
   "id": "5cdc33b1-9b07-4c07-894a-1970482074ce",
   "metadata": {},
   "outputs": [],
   "source": [
    "#|hide\n",
    "from nbdev.showdoc import *\n",
    "from fastcore.nb_imports import *"
   ]
  },
  {
   "cell_type": "markdown",
   "id": "ef292cff-6b73-401c-ae96-f87f976840dc",
   "metadata": {},
   "source": [
    "# Test "
   ]
  },
  {
   "cell_type": "markdown",
   "id": "39d04528-6739-486f-9d6a-279c49fca752",
   "metadata": {},
   "source": [
    ">Helper functions to quickly write tests in notebooks"
   ]
  },
  {
   "cell_type": "markdown",
   "id": "75b23b6a-caa6-4176-a35f-93878a8a4218",
   "metadata": {},
   "source": [
    "## Simple test functions"
   ]
  },
  {
   "cell_type": "markdown",
   "id": "2f6d416c-ff5a-4219-9c65-6accaa5154d8",
   "metadata": {},
   "source": [
    "We can check that code raises an exception when that's expected (`test_fail`).\n",
    "\n",
    "To test for equality or inequality (with different types of things) we define a simple function test that compares two objects with a given `cmp` operator."
   ]
  },
  {
   "cell_type": "code",
   "execution_count": null,
   "id": "c6bb275d-d1b9-4aa0-8ac4-85fd6b9cccc3",
   "metadata": {},
   "outputs": [],
   "source": [
    "#|export\n",
    "def test_fail(f, msg='', contains='', args=None, kwargs=None):\n",
    "    \"Fails with `msg` unless `f()` raises an exception and (optionally) has `contains` in `e.args`\"\n",
    "    args, kwargs = args or [], kwargs or {}\n",
    "    "
   ]
  }
 ],
 "metadata": {
  "kernelspec": {
   "display_name": "python3",
   "language": "python",
   "name": "python3"
  }
 },
 "nbformat": 4,
 "nbformat_minor": 5
}
