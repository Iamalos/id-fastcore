{
 "cells": [
  {
   "cell_type": "code",
   "execution_count": null,
   "id": "eaab1cbb-4a21-4dbf-a133-f99e57791a1a",
   "metadata": {},
   "outputs": [],
   "source": [
    "#|default_exp test"
   ]
  },
  {
   "cell_type": "code",
   "execution_count": null,
   "id": "ea3a5482-5ce9-44c2-a282-4539f3247dc4",
   "metadata": {},
   "outputs": [],
   "source": [
    "#|export\n",
    "from id_fastcore.imports import *\n",
    "from collections import Counter\n",
    "from contextlib import redirect_stdout"
   ]
  },
  {
   "cell_type": "code",
   "execution_count": null,
   "id": "5cdc33b1-9b07-4c07-894a-1970482074ce",
   "metadata": {},
   "outputs": [],
   "source": [
    "#|hide\n",
    "from nbdev.showdoc import *\n",
    "from fastcore.nb_imports import *"
   ]
  },
  {
   "cell_type": "markdown",
   "id": "ef292cff-6b73-401c-ae96-f87f976840dc",
   "metadata": {},
   "source": [
    "# Test "
   ]
  },
  {
   "cell_type": "markdown",
   "id": "39d04528-6739-486f-9d6a-279c49fca752",
   "metadata": {},
   "source": [
    ">Helper functions to quickly write tests in notebooks"
   ]
  },
  {
   "cell_type": "markdown",
   "id": "75b23b6a-caa6-4176-a35f-93878a8a4218",
   "metadata": {},
   "source": [
    "## Simple test functions"
   ]
  },
  {
   "cell_type": "markdown",
   "id": "2f6d416c-ff5a-4219-9c65-6accaa5154d8",
   "metadata": {},
   "source": [
    "We can check that code raises an exception when that's expected (`test_fail`).\n",
    "\n",
    "To test for equality or inequality (with different types of things) we define a simple function test that compares two objects with a given `cmp` operator."
   ]
  },
  {
   "cell_type": "code",
   "execution_count": null,
   "id": "c6bb275d-d1b9-4aa0-8ac4-85fd6b9cccc3",
   "metadata": {},
   "outputs": [],
   "source": [
    "#|export\n",
    "def test_fail(f, msg='', contains='', args=None, kwargs=None):\n",
    "    \"Fails with `msg` unless `f()` raises an exception and (optionally) has `contains` in `e.args`\"\n",
    "    args, kwargs = args or [], kwargs or {}\n",
    "    try: f(*args, **kwargs)\n",
    "    except Exception as e:\n",
    "        # not contains is used to pass assertion of contains is None\n",
    "        assert not contains or contains in str(e)\n",
    "        return\n",
    "    # reach that part only if no exception raised\n",
    "    assert False, f\"Expected exception but none raised. {msg}\""
   ]
  },
  {
   "cell_type": "code",
   "execution_count": null,
   "id": "d9d094d6-2615-4889-9c82-8d8c692cd66e",
   "metadata": {},
   "outputs": [
    {
     "data": {
      "text/plain": [
       "True"
      ]
     },
     "execution_count": null,
     "metadata": {},
     "output_type": "execute_result"
    }
   ],
   "source": [
    "not None"
   ]
  },
  {
   "cell_type": "code",
   "execution_count": null,
   "id": "84d0d789-26c5-41f2-8ea2-7d5b481275ca",
   "metadata": {},
   "outputs": [],
   "source": [
    "def _fail(): raise Exception(\"foobar\")\n",
    "test_fail(_fail, contains=\"foo\")\n",
    "\n",
    "def _fail(): raise Exception()\n",
    "test_fail(_fail)"
   ]
  },
  {
   "cell_type": "markdown",
   "id": "dff4871e-df8d-4a23-b856-b87139b51fba",
   "metadata": {},
   "source": [
    "We can also pass `args` and `kwargs` to function to check if it fails with special inputs."
   ]
  },
  {
   "cell_type": "code",
   "execution_count": null,
   "id": "132a8cd1-84a2-4ff1-85e4-ad1f9b6c61f3",
   "metadata": {},
   "outputs": [],
   "source": [
    "def _fail_args(a):\n",
    "    if a == 5:\n",
    "        raise ValueError\n",
    "\n",
    "test_fail(_fail_args, args=(5,))\n",
    "test_fail(_fail_args, kwargs=dict(a=5))"
   ]
  },
  {
   "cell_type": "code",
   "execution_count": null,
   "id": "b03f28fc-2676-42bf-8538-02a4c0f0fd1e",
   "metadata": {},
   "outputs": [],
   "source": [
    "#|export\n",
    "def test(a, b, cmp, cname=None):\n",
    "    \"`assert` that `cmp(a,b)`; display inputs and `cname or cmp.__name__` if it fails\"\n",
    "    if cname is None: cname = cmp.__name__\n",
    "    assert cmp(a,b), f\"{cname}:\\n{a}\\n{b}\""
   ]
  },
  {
   "cell_type": "code",
   "execution_count": null,
   "id": "f454598f-c3ac-4c00-bceb-45f2ba7113a4",
   "metadata": {},
   "outputs": [],
   "source": [
    "test([1,2],[1,2], operator.eq)\n",
    "test_fail(lambda: test([1,2],[1], operator.eq))\n",
    "\n",
    "test([1,2],[1],   operator.ne)\n",
    "test_fail(lambda: test([1,2],[1,2], operator.ne))"
   ]
  },
  {
   "cell_type": "code",
   "execution_count": null,
   "id": "820ec1d9-b2fa-40e0-a8e0-b9ce5dce0d38",
   "metadata": {},
   "outputs": [],
   "source": [
    "show_doc(all_equal)"
   ]
  },
  {
   "cell_type": "markdown",
   "id": "926f1665-91c5-4f76-aeb6-5312d504ac3b",
   "metadata": {},
   "source": [
    "# Export -"
   ]
  },
  {
   "cell_type": "code",
   "execution_count": null,
   "id": "2ef57e67-748c-4a7b-a869-c3c11fcf88ce",
   "metadata": {},
   "outputs": [],
   "source": [
    "#|hide\n",
    "#|eval: false\n",
    "from nbdev import nbdev_export\n",
    "nbdev_export()"
   ]
  },
  {
   "cell_type": "code",
   "execution_count": null,
   "id": "118a09ba-ba17-4671-b82a-eed40d652d5f",
   "metadata": {},
   "outputs": [],
   "source": []
  }
 ],
 "metadata": {
  "kernelspec": {
   "display_name": "Python 3 (ipykernel)",
   "language": "python",
   "name": "python3"
  }
 },
 "nbformat": 4,
 "nbformat_minor": 5
}
